{
 "cells": [
  {
   "cell_type": "code",
   "execution_count": 1,
   "metadata": {},
   "outputs": [
    {
     "name": "stdout",
     "output_type": "stream",
     "text": [
      "8544\n",
      "8544\n"
     ]
    }
   ],
   "source": [
    "import pandas as pd\n",
    "from ftfy import fix_text\n",
    "\n",
    "# Note: article_id 1025 , article text is too large which results in taking up multiple rows of the csv file\n",
    "# It just make the csv ugly, because out of no where multiple rows text appear, you can just drop the article 1025 yourself if you want the csv look nice nice\n",
    "df_articles_content = pd.read_csv(\"articles_content.csv\")\n",
    "df_articles_urls = pd.read_csv(\"articles_url.csv\")\n",
    "\n",
    "# Setting the column Types \n",
    "articles_ids = df_articles_content[\"article_id\"].astype(int)\n",
    "\n",
    "# Sort article_id \n",
    "df_articles_sort_by_id = df_articles_content.sort_values(by='article_id')\n",
    "\n",
    "# Remove duplicate article_id\n",
    "df_sorted_by_id = df_articles_sort_by_id.drop_duplicates(subset=['article_id'], keep=\"first\")\n",
    "\n",
    "print(len(df_sorted_by_id))\n",
    "print(len(df_articles_urls))"
   ]
  },
  {
   "cell_type": "code",
   "execution_count": 2,
   "metadata": {},
   "outputs": [
    {
     "name": "stdout",
     "output_type": "stream",
     "text": [
      "<class 'pandas.core.frame.DataFrame'>\n",
      "Index: 8544 entries, 0 to 8575\n",
      "Data columns (total 9 columns):\n",
      " #   Column                     Non-Null Count  Dtype \n",
      "---  ------                     --------------  ----- \n",
      " 0   article_id                 8544 non-null   int64 \n",
      " 1   article_headline           8544 non-null   object\n",
      " 2   article_short_description  6479 non-null   object\n",
      " 3   article_text               8529 non-null   object\n",
      " 4   article_url                8544 non-null   object\n",
      " 5   article_author_name        7605 non-null   object\n",
      " 6   article_author_link        7605 non-null   object\n",
      " 7   article_datetime_released  8532 non-null   object\n",
      " 8   datetime_crawled           8544 non-null   object\n",
      "dtypes: int64(1), object(8)\n",
      "memory usage: 667.5+ KB\n"
     ]
    }
   ],
   "source": [
    "# Check what are the rows that are empty, and duplicated rows\n",
    "df_sorted_by_id.info()\n",
    "# df.dtypes"
   ]
  },
  {
   "cell_type": "code",
   "execution_count": 3,
   "metadata": {},
   "outputs": [
    {
     "name": "stdout",
     "output_type": "stream",
     "text": [
      "Total Missing IDs: 0\n",
      "Missing Article IDs: []\n"
     ]
    }
   ],
   "source": [
    "expected_ids = set(range(1, 8545))  \n",
    "\n",
    "# Get the actual IDs present in the dataset\n",
    "actual_ids = set(articles_ids)\n",
    "\n",
    "# Find missing IDs\n",
    "missing_ids = sorted(expected_ids - actual_ids)\n",
    "\n",
    "print(f\"Total Missing IDs: {len(missing_ids)}\")\n",
    "print(\"Missing Article IDs:\", missing_ids)"
   ]
  },
  {
   "cell_type": "code",
   "execution_count": 4,
   "metadata": {},
   "outputs": [
    {
     "name": "stdout",
     "output_type": "stream",
     "text": [
      "Missing Article Text Entries:\n",
      "      article_id                                   article_headline\n",
      "3860        1701  Singapore Turf Club: A lookback, through the a...\n",
      "4640        1848  As it happened: MRT East-West line disruption,...\n",
      "4922        1905  In pictures: Action from the 2024 Formula 1 Si...\n",
      "1410        2596  NDP 2024: The National Day Parade that rain co...\n",
      "3281        3101  NDP 2024: Behind the scenes at the parade | In...\n",
      "7479        3959  Lee Hsien Loong: 20 years as Prime Minister an...\n",
      "8172        5459  Indonesia, Singapore sign outline pledge on ca...\n",
      "2777        5984  The dad who killed his twin sons: Investigatin...\n",
      "5209        6521  A deep dive into COE prices in Singapore: Does...\n",
      "1141        7062  Dyslexia: What it’s like and how to cope | Int...\n",
      "3478        7469  Women and pregnancy: What to know if you opt f...\n",
      "4883        7740  Interactive: The LKY100 coin - How the commemo...\n",
      "4889        7741  Interactive: The LKY100 coin - How the commemo...\n",
      "4980        7759       Interactive: Lee Kuan Yew - In His Own Words\n",
      "7778        8366  In pictures: Singapore's National Day Parade 2...\n",
      "Saved missing article IDs to 'missing_article_text.csv'\n"
     ]
    }
   ],
   "source": [
    "# Find missing or empty article_text entries\n",
    "missing_text_articles = df_sorted_by_id[df_sorted_by_id[\"article_text\"].isna() | (df_sorted_by_id[\"article_text\"].str.strip() == \"\")]\n",
    "\n",
    "# Display the missing article IDs\n",
    "if not missing_text_articles.empty:\n",
    "    print(\"Missing Article Text Entries:\")\n",
    "    print(missing_text_articles[[\"article_id\", \"article_headline\"]])\n",
    "    \n",
    "    # Save the missing IDs to a CSV file for reference\n",
    "    missing_text_articles[[\"article_id\", \"article_headline\",\"article_url\"]].to_csv(\"missing_article_text.csv\", index=False)\n",
    "    print(\"Saved missing article IDs to 'missing_article_text.csv'\")\n",
    "else:\n",
    "    print(\"✅ No missing article_text found!\")"
   ]
  },
  {
   "cell_type": "code",
   "execution_count": 5,
   "metadata": {},
   "outputs": [
    {
     "name": "stdout",
     "output_type": "stream",
     "text": [
      "<class 'pandas.core.frame.DataFrame'>\n",
      "Index: 8529 entries, 0 to 8575\n",
      "Data columns (total 9 columns):\n",
      " #   Column                     Non-Null Count  Dtype \n",
      "---  ------                     --------------  ----- \n",
      " 0   article_id                 8529 non-null   int64 \n",
      " 1   article_headline           8529 non-null   object\n",
      " 2   article_short_description  6477 non-null   object\n",
      " 3   article_text               8529 non-null   object\n",
      " 4   article_url                8529 non-null   object\n",
      " 5   article_author_name        7601 non-null   object\n",
      " 6   article_author_link        7601 non-null   object\n",
      " 7   article_datetime_released  8529 non-null   object\n",
      " 8   datetime_crawled           8529 non-null   object\n",
      "dtypes: int64(1), object(8)\n",
      "memory usage: 666.3+ KB\n"
     ]
    }
   ],
   "source": [
    "# Drop empty article_text row or rows\n",
    "df_sorted_by_id = df_sorted_by_id.dropna(subset=[\"article_text\"])  # Drops NaN values\n",
    "df_sorted_by_id = df_sorted_by_id[df_sorted_by_id[\"article_text\"].str.strip() != \"\"]  # Drops empty text\n",
    "\n",
    "# From 8544 rows to 8529 rows\n",
    "df_sorted_by_id.info()\n",
    "\n",
    "# Remove the row where article_id is 1025\n",
    "# df_sorted_by_id = df_sorted_by_id[df_sorted_by_id[\"article_id\"] != 1025]\n",
    "\n",
    "# df_sorted_by_id.to_csv(\"test.csv\")"
   ]
  },
  {
   "cell_type": "code",
   "execution_count": 6,
   "metadata": {},
   "outputs": [
    {
     "name": "stderr",
     "output_type": "stream",
     "text": [
      "C:\\Users\\PC\\AppData\\Local\\Temp\\ipykernel_53244\\3847784499.py:1: FutureWarning: A value is trying to be set on a copy of a DataFrame or Series through chained assignment using an inplace method.\n",
      "The behavior will change in pandas 3.0. This inplace method will never work because the intermediate object on which we are setting values always behaves as a copy.\n",
      "\n",
      "For example, when doing 'df[col].method(value, inplace=True)', try using 'df.method({col: value}, inplace=True)' or df[col] = df[col].method(value) instead, to perform the operation inplace on the original object.\n",
      "\n",
      "\n",
      "  df_sorted_by_id[\"article_short_description\"].fillna(\"No Short Description\", inplace=True)\n",
      "C:\\Users\\PC\\AppData\\Local\\Temp\\ipykernel_53244\\3847784499.py:2: FutureWarning: A value is trying to be set on a copy of a DataFrame or Series through chained assignment using an inplace method.\n",
      "The behavior will change in pandas 3.0. This inplace method will never work because the intermediate object on which we are setting values always behaves as a copy.\n",
      "\n",
      "For example, when doing 'df[col].method(value, inplace=True)', try using 'df.method({col: value}, inplace=True)' or df[col] = df[col].method(value) instead, to perform the operation inplace on the original object.\n",
      "\n",
      "\n",
      "  df_sorted_by_id[\"article_text\"].fillna(\"Different CSS Class, Thus No Article Text\", inplace=True)\n",
      "C:\\Users\\PC\\AppData\\Local\\Temp\\ipykernel_53244\\3847784499.py:3: FutureWarning: A value is trying to be set on a copy of a DataFrame or Series through chained assignment using an inplace method.\n",
      "The behavior will change in pandas 3.0. This inplace method will never work because the intermediate object on which we are setting values always behaves as a copy.\n",
      "\n",
      "For example, when doing 'df[col].method(value, inplace=True)', try using 'df.method({col: value}, inplace=True)' or df[col] = df[col].method(value) instead, to perform the operation inplace on the original object.\n",
      "\n",
      "\n",
      "  df_sorted_by_id[\"article_author_name\"].fillna(\"No Author Name\", inplace=True)\n",
      "C:\\Users\\PC\\AppData\\Local\\Temp\\ipykernel_53244\\3847784499.py:4: FutureWarning: A value is trying to be set on a copy of a DataFrame or Series through chained assignment using an inplace method.\n",
      "The behavior will change in pandas 3.0. This inplace method will never work because the intermediate object on which we are setting values always behaves as a copy.\n",
      "\n",
      "For example, when doing 'df[col].method(value, inplace=True)', try using 'df.method({col: value}, inplace=True)' or df[col] = df[col].method(value) instead, to perform the operation inplace on the original object.\n",
      "\n",
      "\n",
      "  df_sorted_by_id[\"article_author_link\"].fillna(\"No Author Link\", inplace=True)\n",
      "C:\\Users\\PC\\AppData\\Local\\Temp\\ipykernel_53244\\3847784499.py:5: FutureWarning: A value is trying to be set on a copy of a DataFrame or Series through chained assignment using an inplace method.\n",
      "The behavior will change in pandas 3.0. This inplace method will never work because the intermediate object on which we are setting values always behaves as a copy.\n",
      "\n",
      "For example, when doing 'df[col].method(value, inplace=True)', try using 'df.method({col: value}, inplace=True)' or df[col] = df[col].method(value) instead, to perform the operation inplace on the original object.\n",
      "\n",
      "\n",
      "  df_sorted_by_id[\"article_datetime_released\"].fillna(\"No Date Released\", inplace=True)\n"
     ]
    }
   ],
   "source": [
    "df_sorted_by_id[\"article_short_description\"].fillna(\"No Short Description\", inplace=True)\n",
    "df_sorted_by_id[\"article_text\"].fillna(\"Different CSS Class, Thus No Article Text\", inplace=True)\n",
    "df_sorted_by_id[\"article_author_name\"].fillna(\"No Author Name\", inplace=True)\n",
    "df_sorted_by_id[\"article_author_link\"].fillna(\"No Author Link\", inplace=True)\n",
    "df_sorted_by_id[\"article_datetime_released\"].fillna(\"No Date Released\", inplace=True)"
   ]
  },
  {
   "cell_type": "code",
   "execution_count": 7,
   "metadata": {},
   "outputs": [
    {
     "name": "stdout",
     "output_type": "stream",
     "text": [
      "<class 'pandas.core.frame.DataFrame'>\n",
      "Index: 8529 entries, 0 to 8575\n",
      "Data columns (total 9 columns):\n",
      " #   Column                     Non-Null Count  Dtype \n",
      "---  ------                     --------------  ----- \n",
      " 0   article_id                 8529 non-null   int64 \n",
      " 1   article_headline           8529 non-null   object\n",
      " 2   article_short_description  8529 non-null   object\n",
      " 3   article_text               8529 non-null   object\n",
      " 4   article_url                8529 non-null   object\n",
      " 5   article_author_name        8529 non-null   object\n",
      " 6   article_author_link        8529 non-null   object\n",
      " 7   article_datetime_released  8529 non-null   object\n",
      " 8   datetime_crawled           8529 non-null   object\n",
      "dtypes: int64(1), object(8)\n",
      "memory usage: 666.3+ KB\n"
     ]
    }
   ],
   "source": [
    "# Alright, Now all the values all being filled\n",
    "# Time to remove unwanted text and werid characters from the article_text\n",
    "df_sorted_by_id.info()"
   ]
  },
  {
   "cell_type": "code",
   "execution_count": 9,
   "metadata": {},
   "outputs": [
    {
     "name": "stdout",
     "output_type": "stream",
     "text": [
      "Cleaned file saved as: articles_content_cleaned.csv\n"
     ]
    }
   ],
   "source": [
    "# Define unwanted text patterns\n",
    "unwanted_texts = [\"SINGAPORE â€”\", \"SINGAPORE:\",\"ADVERTISEMENT\"]\n",
    "\n",
    "# Function to clean the text\n",
    "def clean_article_text(text):\n",
    "    text = fix_text(text)\n",
    "    if isinstance(text, str):  # Ensure text is a string before replacing\n",
    "        for unwanted in unwanted_texts:\n",
    "            text = text.replace(unwanted, \"\").strip()\n",
    "    return text\n",
    "\n",
    "# Apply the cleaning function to the 'article_text' column\n",
    "df_sorted_by_id[\"article_text\"] = df_sorted_by_id[\"article_text\"].apply(clean_article_text)\n",
    "df_sorted_by_id[\"article_headline\"] = df_sorted_by_id[\"article_headline\"].apply(clean_article_text)\n",
    "df_sorted_by_id[\"article_short_description\"] = df_sorted_by_id[\"article_short_description\"].apply(clean_article_text)\n",
    "\n",
    "# Save the cleaned data to a new CSV file\n",
    "cleaned_file_path = \"articles_content_cleaned.csv\"\n",
    "df_sorted_by_id.to_csv(\"articles_content_cleaned.csv\", index=False, encoding=\"utf-8-sig\")\n",
    "\n",
    "print(f\"Cleaned file saved as: {cleaned_file_path}\")"
   ]
  }
 ],
 "metadata": {
  "kernelspec": {
   "display_name": "env",
   "language": "python",
   "name": "python3"
  },
  "language_info": {
   "codemirror_mode": {
    "name": "ipython",
    "version": 3
   },
   "file_extension": ".py",
   "mimetype": "text/x-python",
   "name": "python",
   "nbconvert_exporter": "python",
   "pygments_lexer": "ipython3",
   "version": "3.11.4"
  }
 },
 "nbformat": 4,
 "nbformat_minor": 2
}
