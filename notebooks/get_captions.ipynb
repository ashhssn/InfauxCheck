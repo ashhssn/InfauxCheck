{
 "cells": [
  {
   "cell_type": "code",
   "execution_count": 1,
   "id": "3b5c3489",
   "metadata": {
    "execution": {
     "iopub.execute_input": "2025-02-25T10:21:42.115035Z",
     "iopub.status.busy": "2025-02-25T10:21:42.114691Z",
     "iopub.status.idle": "2025-02-25T10:21:51.759591Z",
     "shell.execute_reply": "2025-02-25T10:21:51.758657Z"
    },
    "papermill": {
     "duration": 9.652396,
     "end_time": "2025-02-25T10:21:51.761371",
     "exception": false,
     "start_time": "2025-02-25T10:21:42.108975",
     "status": "completed"
    },
    "tags": []
   },
   "outputs": [
    {
     "name": "stdout",
     "output_type": "stream",
     "text": [
      "\u001b[2K   \u001b[90m━━━━━━━━━━━━━━━━━━━━━━━━━━━━━━━━━━━━━━━━\u001b[0m \u001b[32m67.9/67.9 kB\u001b[0m \u001b[31m2.8 MB/s\u001b[0m eta \u001b[36m0:00:00\u001b[0m\r\n",
      "\u001b[2K   \u001b[90m━━━━━━━━━━━━━━━━━━━━━━━━━━━━━━━━━━━━━━━━\u001b[0m \u001b[32m3.0/3.0 MB\u001b[0m \u001b[31m50.3 MB/s\u001b[0m eta \u001b[36m0:00:00\u001b[0m\r\n",
      "\u001b[2K   \u001b[90m━━━━━━━━━━━━━━━━━━━━━━━━━━━━━━━━━━━━━━━━\u001b[0m \u001b[32m93.3/93.3 kB\u001b[0m \u001b[31m5.4 MB/s\u001b[0m eta \u001b[36m0:00:00\u001b[0m\r\n",
      "\u001b[2K   \u001b[90m━━━━━━━━━━━━━━━━━━━━━━━━━━━━━━━━━━━━━━━━\u001b[0m \u001b[32m49.6/49.6 kB\u001b[0m \u001b[31m2.4 MB/s\u001b[0m eta \u001b[36m0:00:00\u001b[0m\r\n",
      "\u001b[2K   \u001b[90m━━━━━━━━━━━━━━━━━━━━━━━━━━━━━━━━━━━━━━━━\u001b[0m \u001b[32m139.0/139.0 kB\u001b[0m \u001b[31m9.1 MB/s\u001b[0m eta \u001b[36m0:00:00\u001b[0m\r\n",
      "\u001b[2K   \u001b[90m━━━━━━━━━━━━━━━━━━━━━━━━━━━━━━━━━━━━━━━━\u001b[0m \u001b[32m413.7/413.7 kB\u001b[0m \u001b[31m24.6 MB/s\u001b[0m eta \u001b[36m0:00:00\u001b[0m\r\n",
      "\u001b[?25h"
     ]
    }
   ],
   "source": [
    "# Install required libraries here\n",
    "!pip install --quiet easyocr\n",
    "!pip install --quiet py7zr"
   ]
  },
  {
   "cell_type": "code",
   "execution_count": 2,
   "id": "b031244e",
   "metadata": {
    "execution": {
     "iopub.execute_input": "2025-02-25T10:21:51.768451Z",
     "iopub.status.busy": "2025-02-25T10:21:51.768159Z",
     "iopub.status.idle": "2025-02-25T10:22:06.889922Z",
     "shell.execute_reply": "2025-02-25T10:22:06.888584Z"
    },
    "papermill": {
     "duration": 15.127745,
     "end_time": "2025-02-25T10:22:06.892405",
     "exception": false,
     "start_time": "2025-02-25T10:21:51.764660",
     "status": "completed"
    },
    "tags": []
   },
   "outputs": [
    {
     "name": "stdout",
     "output_type": "stream",
     "text": [
      "Downloading...\r\n",
      "From (original): https://drive.google.com/uc?id=1CtyKcpx2jxP0h9K-IsuIQf8UpsIj7jeO\r\n",
      "From (redirected): https://drive.google.com/uc?id=1CtyKcpx2jxP0h9K-IsuIQf8UpsIj7jeO&confirm=t&uuid=29a7ad81-d956-4222-9104-548d7251e6f6\r\n",
      "To: /kaggle/working/with-captions-Mothership.zip\r\n",
      "100%|███████████████████████████████████████| 2.76G/2.76G [00:09<00:00, 276MB/s]\r\n"
     ]
    }
   ],
   "source": [
    "# Download dataset from Google Drive\n",
    "# STRAITS TIMES\n",
    "#!gdown 1S6AKL6KDmH0yqJM36XK2IrP9pg4vbfCs\n",
    "\n",
    "# MOTHERSHIP\n",
    "!gdown 1CtyKcpx2jxP0h9K-IsuIQf8UpsIj7jeO"
   ]
  },
  {
   "cell_type": "code",
   "execution_count": 3,
   "id": "b4fa7db6",
   "metadata": {
    "execution": {
     "iopub.execute_input": "2025-02-25T10:22:06.979365Z",
     "iopub.status.busy": "2025-02-25T10:22:06.978871Z",
     "iopub.status.idle": "2025-02-25T10:22:18.006585Z",
     "shell.execute_reply": "2025-02-25T10:22:18.005889Z"
    },
    "papermill": {
     "duration": 11.094878,
     "end_time": "2025-02-25T10:22:18.008190",
     "exception": false,
     "start_time": "2025-02-25T10:22:06.913312",
     "status": "completed"
    },
    "tags": []
   },
   "outputs": [],
   "source": [
    "import os\n",
    "import cv2\n",
    "import easyocr\n",
    "import pandas as pd\n",
    "import uuid\n",
    "from tqdm import tqdm\n",
    "# Unzip 7zip folder\n",
    "#import py7zr\n",
    "# Unzip zip folder\n",
    "import zipfile"
   ]
  },
  {
   "cell_type": "code",
   "execution_count": 4,
   "id": "c3f48cfb",
   "metadata": {
    "execution": {
     "iopub.execute_input": "2025-02-25T10:22:18.026175Z",
     "iopub.status.busy": "2025-02-25T10:22:18.025749Z",
     "iopub.status.idle": "2025-02-25T10:22:40.655980Z",
     "shell.execute_reply": "2025-02-25T10:22:40.654976Z"
    },
    "papermill": {
     "duration": 22.640416,
     "end_time": "2025-02-25T10:22:40.657791",
     "exception": false,
     "start_time": "2025-02-25T10:22:18.017375",
     "status": "completed"
    },
    "tags": []
   },
   "outputs": [],
   "source": [
    "#zipped_path = \"/kaggle/working/with-captions-Straits.zip\"\n",
    "zipped_path = \"/kaggle/working/with-captions-Mothership.zip\"\n",
    "output_folder = \"images\"\n",
    "os.makedirs(output_folder, exist_ok=True)\n",
    "\n",
    "with zipfile.ZipFile(zipped_path, 'r') as zip_ref:\n",
    "    zip_ref.extractall(output_folder)\n",
    "\n",
    "#with py7zr.SevenZipFile(zipped_path, mode='r') as z:\n",
    "#    # Will extract to \"images\" folder\n",
    "#    z.extractall()"
   ]
  },
  {
   "cell_type": "code",
   "execution_count": 5,
   "id": "877ce71f",
   "metadata": {
    "execution": {
     "iopub.execute_input": "2025-02-25T10:22:40.710244Z",
     "iopub.status.busy": "2025-02-25T10:22:40.709926Z",
     "iopub.status.idle": "2025-02-25T10:22:43.988761Z",
     "shell.execute_reply": "2025-02-25T10:22:43.988060Z"
    },
    "papermill": {
     "duration": 3.288479,
     "end_time": "2025-02-25T10:22:43.990346",
     "exception": false,
     "start_time": "2025-02-25T10:22:40.701867",
     "status": "completed"
    },
    "tags": []
   },
   "outputs": [],
   "source": [
    "reader = easyocr.Reader(['en'], gpu=True) "
   ]
  },
  {
   "cell_type": "code",
   "execution_count": 6,
   "id": "e5cc185b",
   "metadata": {
    "execution": {
     "iopub.execute_input": "2025-02-25T10:22:44.005136Z",
     "iopub.status.busy": "2025-02-25T10:22:44.004895Z",
     "iopub.status.idle": "2025-02-25T10:22:44.008320Z",
     "shell.execute_reply": "2025-02-25T10:22:44.007494Z"
    },
    "papermill": {
     "duration": 0.012211,
     "end_time": "2025-02-25T10:22:44.009686",
     "exception": false,
     "start_time": "2025-02-25T10:22:43.997475",
     "status": "completed"
    },
    "tags": []
   },
   "outputs": [],
   "source": [
    "folder_path = \"/kaggle/working/images\"\n",
    "#output_path = \"/kaggle/working/with-captions\"\n",
    "#os.makedirs(output_path, exist_ok=True)"
   ]
  },
  {
   "cell_type": "code",
   "execution_count": 7,
   "id": "3b64f95b",
   "metadata": {
    "execution": {
     "iopub.execute_input": "2025-02-25T10:22:44.024049Z",
     "iopub.status.busy": "2025-02-25T10:22:44.023747Z",
     "iopub.status.idle": "2025-02-25T10:22:44.026880Z",
     "shell.execute_reply": "2025-02-25T10:22:44.026218Z"
    },
    "papermill": {
     "duration": 0.011531,
     "end_time": "2025-02-25T10:22:44.028070",
     "exception": false,
     "start_time": "2025-02-25T10:22:44.016539",
     "status": "completed"
    },
    "tags": []
   },
   "outputs": [],
   "source": [
    "# List to hold captions\n",
    "caption_data = []"
   ]
  },
  {
   "cell_type": "code",
   "execution_count": 8,
   "id": "ab3160a2",
   "metadata": {
    "execution": {
     "iopub.execute_input": "2025-02-25T10:22:44.042084Z",
     "iopub.status.busy": "2025-02-25T10:22:44.041843Z",
     "iopub.status.idle": "2025-02-25T10:22:44.053411Z",
     "shell.execute_reply": "2025-02-25T10:22:44.052830Z"
    },
    "papermill": {
     "duration": 0.019645,
     "end_time": "2025-02-25T10:22:44.054479",
     "exception": false,
     "start_time": "2025-02-25T10:22:44.034834",
     "status": "completed"
    },
    "tags": []
   },
   "outputs": [],
   "source": [
    "image_files = [f for f in os.listdir(folder_path) if f.lower().endswith(('.jpg', '.jpeg', '.png'))]"
   ]
  },
  {
   "cell_type": "code",
   "execution_count": 9,
   "id": "ee94f3c1",
   "metadata": {
    "execution": {
     "iopub.execute_input": "2025-02-25T10:22:44.073077Z",
     "iopub.status.busy": "2025-02-25T10:22:44.072829Z",
     "iopub.status.idle": "2025-02-25T12:02:35.371140Z",
     "shell.execute_reply": "2025-02-25T12:02:35.370100Z"
    },
    "papermill": {
     "duration": 5991.30731,
     "end_time": "2025-02-25T12:02:35.372706",
     "exception": false,
     "start_time": "2025-02-25T10:22:44.065396",
     "status": "completed"
    },
    "tags": []
   },
   "outputs": [
    {
     "name": "stderr",
     "output_type": "stream",
     "text": [
      "Processing images: 100%|██████████| 11192/11192 [1:39:51<00:00,  1.87it/s]\n"
     ]
    }
   ],
   "source": [
    "for file_name in tqdm(image_files, desc=\"Processing images\"):\n",
    "    file_path = os.path.join(folder_path, file_name)\n",
    "    image = cv2.imread(file_path)\n",
    "    \n",
    "    if image is None:\n",
    "        print(f\"Could not read {file_name}\")\n",
    "        continue\n",
    "    \n",
    "    # Run EasyOCR on the image to detect text\n",
    "    results = reader.readtext(image)\n",
    "    \n",
    "    # If any text is detected, extract the text and record it with the filename\n",
    "    if results:\n",
    "        # Join all detected text segments into a single string\n",
    "        extracted_text = \" \".join([text for (_, text, _) in results])\n",
    "        \n",
    "        # Append the data to the list\n",
    "        caption_data.append({\n",
    "            \"FileName\": file_name,\n",
    "            \"ExtractedText\": extracted_text\n",
    "        })"
   ]
  },
  {
   "cell_type": "code",
   "execution_count": 10,
   "id": "7bc21169",
   "metadata": {
    "execution": {
     "iopub.execute_input": "2025-02-25T12:02:36.407212Z",
     "iopub.status.busy": "2025-02-25T12:02:36.406687Z",
     "iopub.status.idle": "2025-02-25T12:02:37.580985Z",
     "shell.execute_reply": "2025-02-25T12:02:37.580039Z"
    },
    "papermill": {
     "duration": 1.68894,
     "end_time": "2025-02-25T12:02:37.582625",
     "exception": false,
     "start_time": "2025-02-25T12:02:35.893685",
     "status": "completed"
    },
    "tags": []
   },
   "outputs": [],
   "source": [
    "# Save the collected caption data into captions.xlsx\n",
    "df = pd.DataFrame(caption_data)\n",
    "excel_path = '/kaggle/working/captions.xlsx'\n",
    "df.to_excel(excel_path, index=False)"
   ]
  },
  {
   "cell_type": "code",
   "execution_count": 11,
   "id": "d2f4e458",
   "metadata": {
    "execution": {
     "iopub.execute_input": "2025-02-25T12:02:38.677663Z",
     "iopub.status.busy": "2025-02-25T12:02:38.676927Z",
     "iopub.status.idle": "2025-02-25T12:02:38.680883Z",
     "shell.execute_reply": "2025-02-25T12:02:38.680200Z"
    },
    "papermill": {
     "duration": 0.519082,
     "end_time": "2025-02-25T12:02:38.682299",
     "exception": false,
     "start_time": "2025-02-25T12:02:38.163217",
     "status": "completed"
    },
    "tags": []
   },
   "outputs": [],
   "source": [
    "#import shutil\n",
    "\n",
    "# Define the folder to be zipped and the zip file name.\n",
    "#folder_to_zip = output_path  # \"/kaggle/working/with-captions\"\n",
    "#zip_filename = \"with-captions.zip\"\n",
    "\n",
    "# Create a zip archive of the output folder.\n",
    "#shutil.make_archive(\"with-captions\", \"zip\", folder_to_zip)"
   ]
  }
 ],
 "metadata": {
  "kaggle": {
   "accelerator": "gpu",
   "dataSources": [
    {
     "datasetId": 6578336,
     "sourceId": 10624601,
     "sourceType": "datasetVersion"
    }
   ],
   "dockerImageVersionId": 30919,
   "isGpuEnabled": true,
   "isInternetEnabled": true,
   "language": "python",
   "sourceType": "notebook"
  },
  "kernelspec": {
   "display_name": "Python 3",
   "language": "python",
   "name": "python3"
  },
  "language_info": {
   "codemirror_mode": {
    "name": "ipython",
    "version": 3
   },
   "file_extension": ".py",
   "mimetype": "text/x-python",
   "name": "python",
   "nbconvert_exporter": "python",
   "pygments_lexer": "ipython3",
   "version": "3.10.12"
  },
  "papermill": {
   "default_parameters": {},
   "duration": 6062.603998,
   "end_time": "2025-02-25T12:02:42.003855",
   "environment_variables": {},
   "exception": null,
   "input_path": "__notebook__.ipynb",
   "output_path": "__notebook__.ipynb",
   "parameters": {},
   "start_time": "2025-02-25T10:21:39.399857",
   "version": "2.6.0"
  }
 },
 "nbformat": 4,
 "nbformat_minor": 5
}
