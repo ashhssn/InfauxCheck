{
 "cells": [
  {
   "cell_type": "code",
   "execution_count": null,
   "metadata": {},
   "outputs": [],
   "source": [
    "!pip install langchain langchain-openai langchain-chroma pandas"
   ]
  },
  {
   "cell_type": "code",
   "execution_count": null,
   "metadata": {},
   "outputs": [],
   "source": [
    "import pandas as pd\n",
    "\n",
    "# Load the CSV file\n",
    "df = pd.read_csv('../data/articles_content_cleaned.csv')\n",
    "\n",
    "# Combine the relevant columns into a single text field\n",
    "df['combined_text'] = df['article_headline'] + ' ' + df['article_short_description'] + ' ' + df['article_text']\n",
    "\n",
    "# Include 'article_domain', 'article_id', and 'article_url' in metadata if any of them exist\n",
    "def create_metadata(row):\n",
    "    metadata = {}\n",
    "    if 'article_domain' in df.columns:\n",
    "        metadata['article_domain'] = str(row['article_domain']) if pd.notna(row['article_domain']) else ''\n",
    "    if 'article_id' in df.columns:\n",
    "        metadata['article_id'] = str(row['article_id']) if pd.notna(row['article_id']) else ''\n",
    "    if 'article_url' in df.columns:\n",
    "        metadata['article_url'] = str(row['article_url']) if pd.notna(row['article_url']) else ''\n",
    "    return metadata\n",
    "\n",
    "df['metadata'] = df.apply(create_metadata, axis=1)\n"
   ]
  },
  {
   "cell_type": "code",
   "execution_count": null,
   "metadata": {},
   "outputs": [],
   "source": [
    "from langchain.text_splitter import RecursiveCharacterTextSplitter\n",
    "from langchain.schema import Document\n",
    "\n",
    "# Initialize the text splitter\n",
    "text_splitter = RecursiveCharacterTextSplitter(chunk_size=1000, chunk_overlap=200)\n",
    "\n",
    "# Create Document objects with metadata\n",
    "documents = [\n",
    "    Document(page_content=text, metadata=meta)\n",
    "    for text, meta in zip(df['combined_text'], df['metadata'])\n",
    "]\n",
    "\n",
    "# Split documents into chunks\n",
    "chunks = text_splitter.split_documents(documents)\n"
   ]
  },
  {
   "cell_type": "code",
   "execution_count": null,
   "metadata": {},
   "outputs": [],
   "source": [
    "from langchain_openai import OpenAIEmbeddings\n",
    "\n",
    "# Initialize the OpenAI embeddings\n",
    "embeddings = OpenAIEmbeddings(model=\"text-embedding-ada-002\", api_key=\"\") #Include API_KEY\n",
    "\n",
    "# Note: Embedding generation will be handled during vector store creation"
   ]
  },
  {
   "cell_type": "code",
   "execution_count": null,
   "metadata": {},
   "outputs": [],
   "source": [
    "from langchain_chroma import Chroma\n",
    "\n",
    "# Initialize Chroma vector store\n",
    "vector_store = Chroma.from_documents(\n",
    "    documents=chunks,\n",
    "    embedding=embeddings,\n",
    "    collection_name='fact_checker_collection',\n",
    "    persist_directory='./chroma_db'  # Directory to persist the database\n",
    ")"
   ]
  }
 ],
 "metadata": {
  "kernelspec": {
   "display_name": "aai3008",
   "language": "python",
   "name": "python3"
  },
  "language_info": {
   "codemirror_mode": {
    "name": "ipython",
    "version": 3
   },
   "file_extension": ".py",
   "mimetype": "text/x-python",
   "name": "python",
   "nbconvert_exporter": "python",
   "pygments_lexer": "ipython3",
   "version": "3.10.16"
  }
 },
 "nbformat": 4,
 "nbformat_minor": 2
}
