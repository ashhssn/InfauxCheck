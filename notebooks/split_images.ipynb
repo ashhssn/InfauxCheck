{
 "cells": [
  {
   "cell_type": "code",
   "execution_count": 1,
   "metadata": {
    "execution": {
     "iopub.execute_input": "2025-02-24T17:10:25.091866Z",
     "iopub.status.busy": "2025-02-24T17:10:25.091534Z",
     "iopub.status.idle": "2025-02-24T17:10:34.262899Z",
     "shell.execute_reply": "2025-02-24T17:10:34.262059Z",
     "shell.execute_reply.started": "2025-02-24T17:10:25.091838Z"
    },
    "trusted": true
   },
   "outputs": [
    {
     "name": "stdout",
     "output_type": "stream",
     "text": [
      "\u001b[2K   \u001b[90m━━━━━━━━━━━━━━━━━━━━━━━━━━━━━━━━━━━━━━━━\u001b[0m \u001b[32m67.9/67.9 kB\u001b[0m \u001b[31m3.9 MB/s\u001b[0m eta \u001b[36m0:00:00\u001b[0m\n",
      "\u001b[2K   \u001b[90m━━━━━━━━━━━━━━━━━━━━━━━━━━━━━━━━━━━━━━━━\u001b[0m \u001b[32m3.0/3.0 MB\u001b[0m \u001b[31m58.7 MB/s\u001b[0m eta \u001b[36m0:00:00\u001b[0m:00:01\u001b[0m\n",
      "\u001b[2K   \u001b[90m━━━━━━━━━━━━━━━━━━━━━━━━━━━━━━━━━━━━━━━━\u001b[0m \u001b[32m93.3/93.3 kB\u001b[0m \u001b[31m4.6 MB/s\u001b[0m eta \u001b[36m0:00:00\u001b[0m\n",
      "\u001b[2K   \u001b[90m━━━━━━━━━━━━━━━━━━━━━━━━━━━━━━━━━━━━━━━━\u001b[0m \u001b[32m49.6/49.6 kB\u001b[0m \u001b[31m3.0 MB/s\u001b[0m eta \u001b[36m0:00:00\u001b[0m\n",
      "\u001b[2K   \u001b[90m━━━━━━━━━━━━━━━━━━━━━━━━━━━━━━━━━━━━━━━━\u001b[0m \u001b[32m139.0/139.0 kB\u001b[0m \u001b[31m11.0 MB/s\u001b[0m eta \u001b[36m0:00:00\u001b[0m\n",
      "\u001b[2K   \u001b[90m━━━━━━━━━━━━━━━━━━━━━━━━━━━━━━━━━━━━━━━━\u001b[0m \u001b[32m413.7/413.7 kB\u001b[0m \u001b[31m22.5 MB/s\u001b[0m eta \u001b[36m0:00:00\u001b[0m\n",
      "\u001b[?25h"
     ]
    }
   ],
   "source": [
    "# Install required libraries here\n",
    "!pip install --quiet easyocr\n",
    "!pip install --quiet py7zr"
   ]
  },
  {
   "cell_type": "code",
   "execution_count": 2,
   "metadata": {
    "execution": {
     "iopub.execute_input": "2025-02-24T17:10:34.264288Z",
     "iopub.status.busy": "2025-02-24T17:10:34.264038Z",
     "iopub.status.idle": "2025-02-24T17:10:57.375071Z",
     "shell.execute_reply": "2025-02-24T17:10:57.374216Z",
     "shell.execute_reply.started": "2025-02-24T17:10:34.264237Z"
    },
    "trusted": true
   },
   "outputs": [
    {
     "name": "stdout",
     "output_type": "stream",
     "text": [
      "Downloading...\n",
      "From (original): https://drive.google.com/uc?id=1juMUOstlsbZueJ6JXX8RzCHepm5zOPBC\n",
      "From (redirected): https://drive.google.com/uc?id=1juMUOstlsbZueJ6JXX8RzCHepm5zOPBC&confirm=t&uuid=8b5b1c19-addd-4c67-bdd4-43580696d0c5\n",
      "To: /kaggle/working/mothership_images.7z\n",
      "100%|██████████████████████████████████████| 1.64G/1.64G [00:17<00:00, 93.1MB/s]\n"
     ]
    }
   ],
   "source": [
    "# Download dataset from Google Drive\n",
    "!gdown 1juMUOstlsbZueJ6JXX8RzCHepm5zOPBC"
   ]
  },
  {
   "cell_type": "code",
   "execution_count": 3,
   "metadata": {
    "execution": {
     "iopub.execute_input": "2025-02-24T17:10:57.376887Z",
     "iopub.status.busy": "2025-02-24T17:10:57.376653Z",
     "iopub.status.idle": "2025-02-24T17:13:18.943791Z",
     "shell.execute_reply": "2025-02-24T17:13:18.943015Z",
     "shell.execute_reply.started": "2025-02-24T17:10:57.376865Z"
    },
    "trusted": true
   },
   "outputs": [],
   "source": [
    "# Unzip 7zip folder\n",
    "import py7zr\n",
    "\n",
    "zipped_path = \"/kaggle/working/mothership_images.7z\"\n",
    "\n",
    "with py7zr.SevenZipFile(zipped_path, mode='r') as z:\n",
    "    # Will extract to \"images\" folder\n",
    "    z.extractall()"
   ]
  },
  {
   "cell_type": "code",
   "execution_count": 4,
   "metadata": {
    "execution": {
     "iopub.execute_input": "2025-02-24T17:13:18.945124Z",
     "iopub.status.busy": "2025-02-24T17:13:18.944922Z",
     "iopub.status.idle": "2025-02-24T17:13:25.694700Z",
     "shell.execute_reply": "2025-02-24T17:13:25.694014Z",
     "shell.execute_reply.started": "2025-02-24T17:13:18.945107Z"
    },
    "trusted": true
   },
   "outputs": [],
   "source": [
    "import os\n",
    "import cv2\n",
    "import easyocr\n",
    "import pandas as pd\n",
    "import uuid"
   ]
  },
  {
   "cell_type": "code",
   "execution_count": 5,
   "metadata": {
    "execution": {
     "iopub.execute_input": "2025-02-24T17:13:25.695776Z",
     "iopub.status.busy": "2025-02-24T17:13:25.695433Z",
     "iopub.status.idle": "2025-02-24T17:13:28.989573Z",
     "shell.execute_reply": "2025-02-24T17:13:28.988898Z",
     "shell.execute_reply.started": "2025-02-24T17:13:25.695755Z"
    },
    "trusted": true
   },
   "outputs": [],
   "source": [
    "reader = easyocr.Reader(['en'], gpu=True) "
   ]
  },
  {
   "cell_type": "code",
   "execution_count": 6,
   "metadata": {
    "execution": {
     "iopub.execute_input": "2025-02-24T17:13:28.990569Z",
     "iopub.status.busy": "2025-02-24T17:13:28.990349Z",
     "iopub.status.idle": "2025-02-24T17:13:28.994193Z",
     "shell.execute_reply": "2025-02-24T17:13:28.993467Z",
     "shell.execute_reply.started": "2025-02-24T17:13:28.990552Z"
    },
    "trusted": true
   },
   "outputs": [],
   "source": [
    "folder_path = \"/kaggle/working/images\"\n",
    "output_path = \"/kaggle/working/with-captions\"\n",
    "os.makedirs(output_path, exist_ok=True)"
   ]
  },
  {
   "cell_type": "code",
   "execution_count": 7,
   "metadata": {
    "execution": {
     "iopub.execute_input": "2025-02-24T17:13:28.995186Z",
     "iopub.status.busy": "2025-02-24T17:13:28.994996Z",
     "iopub.status.idle": "2025-02-24T17:13:29.013253Z",
     "shell.execute_reply": "2025-02-24T17:13:29.012629Z",
     "shell.execute_reply.started": "2025-02-24T17:13:28.995170Z"
    },
    "trusted": true
   },
   "outputs": [],
   "source": [
    "# List to hold captions\n",
    "caption_data = []"
   ]
  },
  {
   "cell_type": "code",
   "execution_count": null,
   "metadata": {
    "execution": {
     "execution_failed": "2025-02-24T17:53:21.120Z",
     "iopub.execute_input": "2025-02-24T17:13:29.015060Z",
     "iopub.status.busy": "2025-02-24T17:13:29.014848Z"
    },
    "trusted": true
   },
   "outputs": [],
   "source": [
    "for file_name in os.listdir(folder_path):\n",
    "    if file_name.lower().endswith(('.jpg', '.jpeg', '.png')):\n",
    "        file_path = os.path.join(folder_path, file_name)\n",
    "        image = cv2.imread(file_path)\n",
    "        \n",
    "        if image is None:\n",
    "            print(f\"Could not read {file_name}\")\n",
    "            continue\n",
    "        \n",
    "        # Run EasyOCR on the image to detect text\n",
    "        results = reader.readtext(image)\n",
    "        \n",
    "        # If any text is detected, save the image to the output folder.\n",
    "        if results:\n",
    "            dst_path = os.path.join(output_path, file_name)\n",
    "            cv2.imwrite(dst_path, image)"
   ]
  },
  {
   "cell_type": "code",
   "execution_count": null,
   "metadata": {
    "execution": {
     "execution_failed": "2025-02-24T17:53:21.121Z"
    },
    "trusted": true
   },
   "outputs": [],
   "source": [
    "# Save the collected caption data into captions.xlsx\n",
    "#df = pd.DataFrame(caption_data)\n",
    "#excel_path = '/kaggle/working/captions.xlsx'\n",
    "#df.to_excel(excel_path, index=False)"
   ]
  },
  {
   "cell_type": "code",
   "execution_count": null,
   "metadata": {
    "execution": {
     "execution_failed": "2025-02-24T17:53:21.121Z"
    },
    "trusted": true
   },
   "outputs": [],
   "source": [
    "import shutil\n",
    "\n",
    "# Define the folder to be zipped and the zip file name.\n",
    "folder_to_zip = output_path  # \"/kaggle/working/with-captions\"\n",
    "zip_filename = \"with-captions.zip\"\n",
    "\n",
    "# Create a zip archive of the output folder.\n",
    "shutil.make_archive(\"with-captions\", \"zip\", folder_to_zip)"
   ]
  }
 ],
 "metadata": {
  "kaggle": {
   "accelerator": "gpu",
   "dataSources": [
    {
     "datasetId": 6578336,
     "sourceId": 10624601,
     "sourceType": "datasetVersion"
    }
   ],
   "dockerImageVersionId": 30919,
   "isGpuEnabled": true,
   "isInternetEnabled": true,
   "language": "python",
   "sourceType": "notebook"
  },
  "kernelspec": {
   "display_name": "Python 3",
   "language": "python",
   "name": "python3"
  },
  "language_info": {
   "codemirror_mode": {
    "name": "ipython",
    "version": 3
   },
   "file_extension": ".py",
   "mimetype": "text/x-python",
   "name": "python",
   "nbconvert_exporter": "python",
   "pygments_lexer": "ipython3",
   "version": "3.13.0"
  }
 },
 "nbformat": 4,
 "nbformat_minor": 4
}
