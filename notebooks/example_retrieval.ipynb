{
 "cells": [
  {
   "cell_type": "code",
   "execution_count": null,
   "metadata": {
    "vscode": {
     "languageId": "plaintext"
    }
   },
   "outputs": [],
   "source": [
    "from langchain_chroma import Chroma\n",
    "from langchain_openai import OpenAIEmbeddings\n",
    "\n",
    "# Initialize the embedding model\n",
    "embeddings = OpenAIEmbeddings(model=\"text-embedding-ada-002\", api_key=\"\") #Include API KEY\n",
    "\n",
    "# Load the existing Chroma vector store\n",
    "vector_store = Chroma(\n",
    "    collection_name='fact_checker_collection',\n",
    "    persist_directory='./chroma_db',  # Directory where the database is persisted\n",
    "    embedding_function=embeddings\n",
    ")"
   ]
  },
  {
   "cell_type": "code",
   "execution_count": null,
   "metadata": {
    "vscode": {
     "languageId": "plaintext"
    }
   },
   "outputs": [],
   "source": [
    "# Define your query sentence\n",
    "query_sentence = \"Singapore government covid policies\"\n",
    "\n",
    "# Perform the similarity search\n",
    "search_results = vector_store.similarity_search(query=query_sentence, k=5)\n",
    "\n",
    "# Display the results\n",
    "for idx, result in enumerate(search_results, 1):\n",
    "    print(f\"Result {idx}:\")\n",
    "    print(f\"Content: {result.page_content}\")\n",
    "    print(f\"Metadata: {result.metadata}\")\n",
    "    print(\"-\" * 40)\n"
   ]
  }
 ],
 "metadata": {
  "language_info": {
   "name": "python"
  }
 },
 "nbformat": 4,
 "nbformat_minor": 2
}
